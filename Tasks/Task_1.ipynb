{
 "cells": [
  {
   "cell_type": "markdown",
   "metadata": {},
   "source": [
    "# Задание 1\n",
    "\n",
    "[Свертка списка](https://ru.wikipedia.org/wiki/%D0%A1%D0%B2%D1%91%D1%80%D1%82%D0%BA%D0%B0_%D1%81%D0%BF%D0%B8%D1%81%D0%BA%D0%B0) -  это обобщенная операция над списком, c помощью которой можно преобразовать список в единое значение. Например, рассмотрим реализации свертки слева и свертки справа (левоассоциативную свертку и правоассоциативную свертку):"
   ]
  },
  {
   "cell_type": "code",
   "execution_count": 48,
   "metadata": {
    "jupyter": {
     "outputs_hidden": true
    }
   },
   "outputs": [],
   "source": [
    "def foldl(f, x0, lst):\n",
    "    if not lst:\n",
    "        return x0\n",
    "    return foldl(f, f(x0, lst[0]), lst[1:])\n",
    "\n",
    "def foldr(f, x0, lst):\n",
    "    if not lst:\n",
    "        return x0\n",
    "    return f(lst[0], foldr(f, x0, lst[1:]))"
   ]
  },
  {
   "cell_type": "code",
   "execution_count": 49,
   "metadata": {},
   "outputs": [
    {
     "data": {
      "text/plain": [
       "6"
      ]
     },
     "execution_count": 49,
     "metadata": {},
     "output_type": "execute_result"
    }
   ],
   "source": [
    "#сумма\n",
    "foldl(lambda x, y: x + y, 0, [1, 2, 3])"
   ]
  },
  {
   "cell_type": "code",
   "execution_count": 50,
   "metadata": {},
   "outputs": [
    {
     "data": {
      "text/plain": [
       "'123'"
      ]
     },
     "execution_count": 50,
     "metadata": {},
     "output_type": "execute_result"
    }
   ],
   "source": [
    "#конкатенация\n",
    "foldl(lambda x, y: '{}{}'.format(x, y), '', [1, 2, 3])"
   ]
  },
  {
   "cell_type": "code",
   "execution_count": 51,
   "metadata": {},
   "outputs": [
    {
     "data": {
      "text/plain": [
       "(0.16666666666666666, 1.5)"
      ]
     },
     "execution_count": 51,
     "metadata": {},
     "output_type": "execute_result"
    }
   ],
   "source": [
    "f = lambda x, y: x / y\n",
    "foldl(f, 1, [1, 2, 3]), \\\n",
    "foldr(f, 1, [1, 2, 3])"
   ]
  },
  {
   "cell_type": "markdown",
   "metadata": {},
   "source": [
    "Задача: реализовать foldl через foldr и наоборот. Вместо многоточий нужно вставить выражения, которые бы привели к нужному результату. Модифицировать сам список нельзя. "
   ]
  },
  {
   "cell_type": "code",
   "execution_count": 57,
   "metadata": {
    "jupyter": {
     "outputs_hidden": true
    }
   },
   "outputs": [
    {
     "data": {
      "text/plain": [
       "'L123'"
      ]
     },
     "execution_count": 57,
     "metadata": {},
     "output_type": "execute_result"
    }
   ],
   "source": [
    "def foldl2(f, x0, lst):\n",
    "    return foldr(lambda v, k: lambda n: k(f(n, v)), lambda x: x, lst)(x0)\n",
    "foldl2(lambda x, y: x + y, 'L', ['1', '2', '3'])\n"
   ]
  },
  {
   "cell_type": "code",
   "execution_count": 53,
   "metadata": {
    "jupyter": {
     "outputs_hidden": true
    }
   },
   "outputs": [
    {
     "data": {
      "text/plain": [
       "'123R'"
      ]
     },
     "execution_count": 53,
     "metadata": {},
     "output_type": "execute_result"
    }
   ],
   "source": [
    "def foldr2(f, x0, lst):\n",
    "    return foldl(lambda k, v: lambda n: k(f(v, n)), lambda x: x, lst)(x0)\n",
    "foldr2(lambda x, y: x + y, 'R', ['1', '2', '3'])"
   ]
  },
  {
   "cell_type": "markdown",
   "metadata": {},
   "source": [
    "# Задание 2\n",
    "\n",
    "нужно написать функцию, которая принимает две строки и проверяет, входит ли хотя бы одна перестановка второй строки в первую. Например:\n",
    "\n",
    "> a = 'abcrotm'\n",
    "> \n",
    "> b = 'tro'\n",
    "\n",
    "функция def check_inv(a, b) вернет True, так как 'rot' содержится в 'abcrotm'. Нужно подумать как можно более оптимальный алгоритм и оценить его сложность. "
   ]
  },
  {
   "cell_type": "code",
   "execution_count": 54,
   "metadata": {
    "jupyter": {
     "outputs_hidden": true
    }
   },
   "outputs": [
    {
     "data": {
      "text/plain": [
       "True"
      ]
     },
     "execution_count": 54,
     "metadata": {},
     "output_type": "execute_result"
    }
   ],
   "source": [
    "# O(len(a))\n",
    "import string\n",
    "def check_inv(a, b): \n",
    "    assert len(a)>=len(b)\n",
    "    b_ch = dict.fromkeys(string.ascii_letters, 0)\n",
    "    for i in b:\n",
    "        b_ch[i]+=1\n",
    "        \n",
    "    ch = dict.fromkeys(string.ascii_letters, 0)\n",
    "    for i in a[:len(b)-1]:\n",
    "        ch[i]+=1\n",
    "    for i in  range(len(b)-1, len(a)):\n",
    "        ch[a[i]]+=1\n",
    "        if ch==b_ch:\n",
    "            return True\n",
    "        ch[a[i-len(b)+1]]-=1\n",
    "    return False\n",
    "check_inv( 'abcrotm', 'tro')"
   ]
  },
  {
   "cell_type": "markdown",
   "metadata": {},
   "source": [
    "# Задание 3\n",
    "\n",
    "Реализовать бинарное дерево (класс Tree), в нём методы __repr__, __str__, __iter__ (итерация только по листьям)."
   ]
  },
  {
   "cell_type": "code",
   "execution_count": 55,
   "metadata": {},
   "outputs": [
    {
     "name": "stdout",
     "output_type": "stream",
     "text": [
      "[3, 4, 2]\n",
      "0 1 3 4 2\n"
     ]
    },
    {
     "data": {
      "text/plain": [
       "Tree(0,Tree(1,Tree(3), Tree(4)), Tree(2))"
      ]
     },
     "execution_count": 55,
     "metadata": {},
     "output_type": "execute_result"
    }
   ],
   "source": [
    "class Tree:\n",
    "    def __init__(self, value=None, left=None, right=None):\n",
    "        self.left = left\n",
    "        self.right = right\n",
    "        self.value = value\n",
    "        \n",
    "    def __iter__(self): \n",
    "        if self.left == None and self.right == None:\n",
    "            yield self.value\n",
    "        if self.left:\n",
    "            yield from self.left.__iter__()\n",
    "        if self.right: \n",
    "            yield from self.right.__iter__()\n",
    "            \n",
    "    def __str__(self):\n",
    "        r=[str(self.value)]\n",
    "        if self.left:\n",
    "            r.append(self.left.__str__())     \n",
    "        if self.right != None:\n",
    "            r.append(self.right.__str__())   \n",
    "        return ' '.join(r)\n",
    "    \n",
    "    def __repr__(self):\n",
    "        if self.left == None and self.right == None:\n",
    "            return f'Tree({self.value})'\n",
    "        if self.right == None:\n",
    "            return f'Tree({self.value} , {self.left.__repr__()} , None)'\n",
    "        if self.left == None:\n",
    "            return f'Tree({self.value},None, {self.right.__repr__()})'\n",
    "        \n",
    "        return f'Tree({self.value},{self.left.__repr__()}, {self.right.__repr__()})'\n",
    "    \n",
    "tree = Tree(0, Tree(1, Tree(3), Tree(4)),                             \n",
    "               Tree(2))\n",
    "\n",
    "\n",
    "print(list(tree)) #== [3, 4, 2]\n",
    "print(tree)\n",
    "tree\n",
    "#tree"
   ]
  },
  {
   "cell_type": "markdown",
   "metadata": {},
   "source": [
    "# Задание 4\n",
    "\n",
    "Реализовать простейший калькулятор математических выражений:\n",
    "- только целые числа\n",
    "- **+**, **\\-**, **\\***, **\\**\n",
    "- скобки\n",
    "\n",
    "**Можно использовать регулярные выражения**"
   ]
  },
  {
   "cell_type": "code",
   "execution_count": 56,
   "metadata": {},
   "outputs": [
    {
     "data": {
      "text/plain": [
       "True"
      ]
     },
     "execution_count": 56,
     "metadata": {},
     "output_type": "execute_result"
    }
   ],
   "source": [
    "oper ={'*' :lambda a,b: a*b, '/' :lambda a,b: a/b, '+': lambda a,b: a+b,'-' :lambda a,b: b-a}\n",
    "prior = {1: ['+', '-'], 2: ['*', '/'], 0:['(', ')']}\n",
    " \n",
    "def priority(val):\n",
    "    for k, v in prior.items():\n",
    "        if val in v:\n",
    "            return k\n",
    "    return -1\n",
    "\n",
    "def splt(st):\n",
    "    s = []\n",
    "    for i in st.split():\n",
    "        if len(i)>1:\n",
    "            if i[0] == '(':\n",
    "                s.append(i[0])\n",
    "                s.append(i[1:])\n",
    "            elif i[-1] == ')':\n",
    "                s.append(i[:-1])\n",
    "                s.append(i[-1])\n",
    "            else: s.append(i)\n",
    "        else: s.append(i)\n",
    "    return s\n",
    "\n",
    "def calc(expr):\n",
    "    expr = splt(expr)\n",
    "    result = []\n",
    "    stack = []\n",
    "    for el in expr:\n",
    "        if el not in '+-*/()':\n",
    "            result.append(int(el))\n",
    "        else:\n",
    "            if el == '(': \n",
    "                stack.append(el)\n",
    "                continue\n",
    "            elif el == ')': \n",
    "                while True:\n",
    "                    result.append(oper[stack.pop()](result.pop(),result.pop()))\n",
    "                    if stack[-1]=='(':\n",
    "                        stack.pop()\n",
    "                        break\n",
    "            else:    \n",
    "                if len(stack) == 0: last = None \n",
    "                else: last = stack[-1]\n",
    "                while priority(last) >= priority(el):\n",
    "                    result.append(oper[stack.pop()](result.pop(),result.pop()))\n",
    "                    if len(stack) == 0: last = None \n",
    "                    else: last = stack[-1]\n",
    "                stack.append(el)\n",
    "    while True:\n",
    "        if len(stack)>0:\n",
    "            result.append(oper[stack.pop()](result.pop(),result.pop()))\n",
    "        else: break \n",
    "    return result[0]\n",
    "\n",
    "    \n",
    "calc('2 * (15 - 3 * 4) - 2') == 4"
   ]
  },
  {
   "cell_type": "code",
   "execution_count": null,
   "metadata": {
    "collapsed": true,
    "jupyter": {
     "outputs_hidden": true
    }
   },
   "outputs": [],
   "source": []
  }
 ],
 "metadata": {
  "kernelspec": {
   "display_name": "Python 3",
   "language": "python",
   "name": "python3"
  },
  "language_info": {
   "codemirror_mode": {
    "name": "ipython",
    "version": 3
   },
   "file_extension": ".py",
   "mimetype": "text/x-python",
   "name": "python",
   "nbconvert_exporter": "python",
   "pygments_lexer": "ipython3",
   "version": "3.7.4"
  }
 },
 "nbformat": 4,
 "nbformat_minor": 4
}
