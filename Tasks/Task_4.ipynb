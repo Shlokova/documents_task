{
  "nbformat": 4,
  "nbformat_minor": 0,
  "metadata": {
    "kernelspec": {
      "display_name": "Python 3",
      "language": "python",
      "name": "python3"
    },
    "language_info": {
      "codemirror_mode": {
        "name": "ipython",
        "version": 3
      },
      "file_extension": ".py",
      "mimetype": "text/x-python",
      "name": "python",
      "nbconvert_exporter": "python",
      "pygments_lexer": "ipython3",
      "version": "3.7.7"
    },
    "colab": {
      "name": "Task_4.ipynb",
      "provenance": [],
      "toc_visible": true
    }
  },
  "cells": [
    {
      "cell_type": "markdown",
      "metadata": {
        "id": "K3RbpEhJc5s7"
      },
      "source": [
        "# Линейная регрессия"
      ]
    },
    {
      "cell_type": "markdown",
      "metadata": {
        "id": "2rCWxu5uc5s_"
      },
      "source": [
        "Данные содержатся в файле `data/lin_reg.txt`. Прочитать их можно следующим так:"
      ]
    },
    {
      "cell_type": "code",
      "metadata": {
        "id": "NlaruEYac5tD"
      },
      "source": [
        "import matplotlib.pyplot as plt\n",
        "import numpy as np\n",
        "import torch\n",
        "\n",
        "D = np.loadtxt('lin_reg.txt', delimiter=',')\n",
        "X = D[:, :-1]\n",
        "Y = D[:, -1]"
      ],
      "execution_count": 33,
      "outputs": []
    },
    {
      "cell_type": "code",
      "metadata": {
        "id": "fldf9Vp1c5tF"
      },
      "source": [
        "X = (X - X.mean(axis=0))/(X.std(axis = 0) + 1e-12)\n",
        "Y = Y.reshape((-1,1))\n",
        "\n",
        "X = torch.tensor(X, dtype=torch.float)\n",
        "Y = torch.tensor(Y, dtype=torch.float)"
      ],
      "execution_count": 34,
      "outputs": []
    },
    {
      "cell_type": "markdown",
      "metadata": {
        "id": "A0q7XWqBc5tG"
      },
      "source": [
        "При выполнении заданий **нельзя** пользоваться `scikit-learn` и т.п., только `NumPy`/`JAX`/`TF`/`PyTorch` и `matplotlib`/`seaborn`/`plotly`/etc.\n",
        "\n",
        "1. Нарисуйте график среднеквадратичной ошибки в зависимости от параметра регуляризации $\\alpha$, используя полные данные для обучения и для тестирования. \n",
        "2. Подготовьте исходные данные для 5 fold CV.\n",
        "3. С помощью CV найдите оптимальное значение $\\alpha$ на какой-нибудь сетке значений.\n",
        "4. Постройте валидационную кривую. \n",
        "5. Постройте кривую обучения."
      ]
    },
    {
      "cell_type": "code",
      "metadata": {
        "id": "KTVN90m1c5tI"
      },
      "source": [
        "class LinearModel(torch.nn.Module):\n",
        "    def __init__(self, in_features):\n",
        "        super(LinearModel,self).__init__()\n",
        "        self.fc = torch.nn.Linear(in_features, 1, bias=True)\n",
        "        \n",
        "    def forward(self,x):\n",
        "        x = self.fc(x)\n",
        "        return x"
      ],
      "execution_count": 35,
      "outputs": []
    },
    {
      "cell_type": "code",
      "metadata": {
        "id": "Xd9r_oZeg_SE"
      },
      "source": [
        "batch_size = 16"
      ],
      "execution_count": 36,
      "outputs": []
    },
    {
      "cell_type": "code",
      "metadata": {
        "id": "idbooZNtc5tI"
      },
      "source": [
        "def train_model(model, criterion, optimizer, X_train, y_train, X_val=None, y_val=None, epochs = 500):\n",
        "    history, val_history = [], []\n",
        "    \n",
        "    for epoch in range(1, epochs + 1):\n",
        "        fraction = X_train.shape[0] // batch_size\n",
        "        batch_range = range(fraction)\n",
        "        \n",
        "        for i in batch_range:\n",
        "            x_batch = X_train[i * batch_size: (i + 1) * batch_size]\n",
        "            y_batch = y_train[i * batch_size: (i + 1) * batch_size]\n",
        "            \n",
        "            optimizer.zero_grad()\n",
        "            predictions = model(x_batch)\n",
        "            \n",
        "            loss = criterion(y_batch, predictions)\n",
        "            loss.backward()\n",
        "            \n",
        "            optimizer.step()\n",
        "            optimizer.zero_grad()\n",
        "            \n",
        "        with torch.no_grad():\n",
        "            history.append(loss.item())\n",
        "            if (X_val is not None) or (y_val is not None):\n",
        "                val_predictions = model(X_val)\n",
        "                val_history.append(criterion(val_predictions, y_val).item())\n",
        "                \n",
        "    return history, val_history"
      ],
      "execution_count": 51,
      "outputs": []
    },
    {
      "cell_type": "markdown",
      "metadata": {
        "id": "mlvlVykpc5tJ"
      },
      "source": [
        "### 1. Нарисуйте график среднеквадратичной ошибки в зависимости от параметра регуляризации $\\alpha$, используя полные данные для обучения и для тестирования."
      ]
    },
    {
      "cell_type": "code",
      "metadata": {
        "colab": {
          "base_uri": "https://localhost:8080/",
          "height": 282
        },
        "id": "WxFWVx6Qc5tK",
        "outputId": "6221ed2f-236d-4b49-a6eb-b4083d96dec7"
      },
      "source": [
        "param_range = np.arange(0.0, 10.1, 0.1)\n",
        "loss_list = []\n",
        "\n",
        "for alpha in param_range:\n",
        "    \n",
        "    history, val_history = train_model(model, mse_loss, optimizer, X, Y, epochs = 100)\n",
        "    model.eval()\n",
        "    prediction = model(X)\n",
        "    loss = mse_loss(prediction, Y)\n",
        "    loss_list.append(loss.item())\n",
        "\n",
        "plt.plot(param_range, loss_list)\n"
      ],
      "execution_count": 38,
      "outputs": [
        {
          "output_type": "execute_result",
          "data": {
            "text/plain": [
              "[<matplotlib.lines.Line2D at 0x7fd8d2eed668>]"
            ]
          },
          "metadata": {
            "tags": []
          },
          "execution_count": 38
        },
        {
          "output_type": "display_data",
          "data": {
            "image/png": "[encoded data removed]",
            "text/plain": [
              "<Figure size 432x288 with 1 Axes>"
            ]
          },
          "metadata": {
            "tags": [],
            "needs_background": "light"
          }
        }
      ]
    },
    {
      "cell_type": "markdown",
      "metadata": {
        "id": "WIk3AD4-c5tN"
      },
      "source": [
        "### 2. Подготовьте исходные данные для 5 fold CV."
      ]
    },
    {
      "cell_type": "code",
      "metadata": {
        "id": "UaquImnZc5tO"
      },
      "source": [
        "def k_fold_training(X, y, k, epochs, lr, weight_decay_param):\n",
        "    num_val_samples = len(X) // k\n",
        "    \n",
        "    models = []\n",
        "    history_list = []\n",
        "    train_scores = []\n",
        "    val_scores = []\n",
        "    \n",
        "    for i in range(k):\n",
        "        val_data = X[i * num_val_samples: (i + 1) * num_val_samples]\n",
        "        val_targets = Y[i * num_val_samples: (i + 1) * num_val_samples]\n",
        "        \n",
        "        partial_train_data = torch.Tensor(np.concatenate([X[:i * num_val_samples], X[(i + 1) * num_val_samples:]], axis=0))\n",
        "        partial_train_targets = torch.Tensor(np.concatenate([y[:i * num_val_samples], y[(i + 1) * num_val_samples:]], axis=0))\n",
        "        model = LinearModel(X.shape[1])\n",
        "        criterion = torch.nn.MSELoss() \n",
        "        optimizer = torch.optim.SGD(model.parameters(), lr=lr, weight_decay = weight_decay_param)\n",
        "        \n",
        "        history = train_model(model, criterion, optimizer, partial_train_data, partial_train_targets, val_data, val_targets, epochs = epochs)\n",
        "        \n",
        "        with torch.no_grad():\n",
        "            val_score = criterion(model(val_data), val_targets)\n",
        "            train_score = criterion(model(partial_train_data), partial_train_targets)\n",
        "        \n",
        "        models.append(model)\n",
        "        train_scores.append(train_score)\n",
        "        val_scores.append(val_score)        \n",
        "        history_list.append(history)\n",
        "    \n",
        "    return {'models': models, 'history': history_list, 'train_scores': train_scores, 'val_scores': val_scores}\n",
        "    "
      ],
      "execution_count": 39,
      "outputs": []
    },
    {
      "cell_type": "code",
      "metadata": {
        "id": "M003E5D2c5tP"
      },
      "source": [
        "info = k_fold_training(X,Y, 5, 50, 0.1, weight_decay_param=0.1)"
      ],
      "execution_count": 41,
      "outputs": []
    },
    {
      "cell_type": "markdown",
      "metadata": {
        "id": "x2jdkp7mc5tQ"
      },
      "source": [
        "### 3. С помощью CV найдите оптимальное значение $\\alpha$ на какой-нибудь сетке значений."
      ]
    },
    {
      "cell_type": "code",
      "metadata": {
        "id": "WkFtD6gJc5tQ"
      },
      "source": [
        "def random_search(X, y , steps, lr, weight_decay_param, epochs = 100):\n",
        "    mean_scores = []\n",
        "    params_list = []\n",
        "    for i in range(1, steps+1):\n",
        "        random_lr = np.random.uniform(*lr)\n",
        "        random_weigh_decay = np.random.uniform(*weight_decay_param)\n",
        "        params = {'lr': random_lr, 'weight_decay': random_weigh_decay}\n",
        "        \n",
        "        info = k_fold_training(X, y, 5, epochs, random_lr, random_weigh_decay)\n",
        "        mean_score = np.array(info['val_scores']).mean()\n",
        "        \n",
        "        mean_scores.append(mean_score)\n",
        "        params_list.append(params)\n",
        "    \n",
        "    min_index = np.array(mean_scores).argmin()\n",
        "    return params_list[min_index]\n",
        "        "
      ],
      "execution_count": 45,
      "outputs": []
    },
    {
      "cell_type": "code",
      "metadata": {
        "id": "5-tjWE5Wc5tR"
      },
      "source": [
        "params_list = random_search(X, Y, 10, [1e-5, 1e-1], [0.0, 1.0])"
      ],
      "execution_count": 46,
      "outputs": []
    },
    {
      "cell_type": "markdown",
      "metadata": {
        "id": "cDNlQSWac5tT"
      },
      "source": [
        "### 4. Постройте валидационную кривую. \n"
      ]
    },
    {
      "cell_type": "code",
      "metadata": {
        "id": "QPEq_0dAr9lX"
      },
      "source": [
        "model = LinearModel(X.shape[1])\r\n",
        "mse_loss = torch.nn.MSELoss(reduction='mean')\r\n",
        "\r\n",
        "optimizer = torch.optim.SGD(model.parameters(), **params_list)\r\n",
        "\r\n",
        "history, val_history = train_model(model, mse_loss, optimizer, X[200:], Y[200:], X[:200], Y[:200], epochs = 10)"
      ],
      "execution_count": 47,
      "outputs": []
    },
    {
      "cell_type": "code",
      "metadata": {
        "colab": {
          "base_uri": "https://localhost:8080/",
          "height": 282
        },
        "id": "Sb5CgOgkc5tT",
        "outputId": "3ac1ece0-22e9-4c20-c00d-8ef9ccd075d9"
      },
      "source": [
        "plt.plot(range(len(val_history)), val_history)"
      ],
      "execution_count": 48,
      "outputs": [
        {
          "output_type": "execute_result",
          "data": {
            "text/plain": [
              "[<matplotlib.lines.Line2D at 0x7fd8d269b518>]"
            ]
          },
          "metadata": {
            "tags": []
          },
          "execution_count": 48
        },
        {
          "output_type": "display_data",
          "data": {
            "image/png": "[encoded data removed]",
            "text/plain": [
              "<Figure size 432x288 with 1 Axes>"
            ]
          },
          "metadata": {
            "tags": [],
            "needs_background": "light"
          }
        }
      ]
    },
    {
      "cell_type": "markdown",
      "metadata": {
        "id": "adgKMo5xsFqJ"
      },
      "source": [
        "### 5. Постройте кривую обучения.\r\n"
      ]
    },
    {
      "cell_type": "code",
      "metadata": {
        "colab": {
          "base_uri": "https://localhost:8080/",
          "height": 282
        },
        "id": "_txnwxGxc5tU",
        "outputId": "84134bca-5d2a-4dde-8d3c-01f33e39431f"
      },
      "source": [
        "plt.plot(range(len(history)), history)\n",
        "\n"
      ],
      "execution_count": 49,
      "outputs": [
        {
          "output_type": "execute_result",
          "data": {
            "text/plain": [
              "[<matplotlib.lines.Line2D at 0x7fd8d1fa0cf8>]"
            ]
          },
          "metadata": {
            "tags": []
          },
          "execution_count": 49
        },
        {
          "output_type": "display_data",
          "data": {
            "image/png": "[encoded data removed]",
            "text/plain": [
              "<Figure size 432x288 with 1 Axes>"
            ]
          },
          "metadata": {
            "tags": [],
            "needs_background": "light"
          }
        }
      ]
    },
    {
      "cell_type": "code",
      "metadata": {
        "id": "JVRbvD_Oc5tV"
      },
      "source": [
        ""
      ],
      "execution_count": null,
      "outputs": []
    }
  ]
}